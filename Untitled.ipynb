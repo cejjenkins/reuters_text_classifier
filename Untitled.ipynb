{
 "cells": [
  {
   "cell_type": "code",
   "execution_count": 1,
   "metadata": {
    "ExecuteTime": {
     "end_time": "2020-08-09T10:01:20.625873Z",
     "start_time": "2020-08-09T10:01:20.351795Z"
    }
   },
   "outputs": [],
   "source": [
    "import pandas as pd\n",
    "import numpy as np\n"
   ]
  },
  {
   "cell_type": "code",
   "execution_count": 4,
   "metadata": {
    "ExecuteTime": {
     "end_time": "2020-08-09T08:51:32.681395Z",
     "start_time": "2020-08-09T08:51:32.520103Z"
    }
   },
   "outputs": [
    {
     "name": "stdout",
     "output_type": "stream",
     "text": [
      "-rw-r--r--@ 1 christina.jenkins  staff  1324350 Dec  4  1996 data/reuters21578/reut2-000.sgm\r\n",
      "-rw-r--r--@ 1 christina.jenkins  staff  1254440 Dec  4  1996 data/reuters21578/reut2-001.sgm\r\n",
      "-rw-r--r--@ 1 christina.jenkins  staff  1217495 Dec  4  1996 data/reuters21578/reut2-002.sgm\r\n",
      "-rw-r--r--@ 1 christina.jenkins  staff  1298721 Dec  4  1996 data/reuters21578/reut2-003.sgm\r\n",
      "-rw-r--r--@ 1 christina.jenkins  staff  1321623 Dec  4  1996 data/reuters21578/reut2-004.sgm\r\n",
      "-rw-r--r--@ 1 christina.jenkins  staff  1388644 Dec  4  1996 data/reuters21578/reut2-005.sgm\r\n",
      "-rw-r--r--@ 1 christina.jenkins  staff  1254765 Dec  4  1996 data/reuters21578/reut2-006.sgm\r\n",
      "-rw-r--r--@ 1 christina.jenkins  staff  1256772 Dec  4  1996 data/reuters21578/reut2-007.sgm\r\n",
      "-rw-r--r--@ 1 christina.jenkins  staff  1410117 Dec  4  1996 data/reuters21578/reut2-008.sgm\r\n",
      "-rw-r--r--@ 1 christina.jenkins  staff  1338903 Dec  4  1996 data/reuters21578/reut2-009.sgm\r\n",
      "-rw-r--r--@ 1 christina.jenkins  staff  1371071 Dec  4  1996 data/reuters21578/reut2-010.sgm\r\n",
      "-rw-r--r--@ 1 christina.jenkins  staff  1304117 Dec  4  1996 data/reuters21578/reut2-011.sgm\r\n",
      "-rw-r--r--@ 1 christina.jenkins  staff  1323584 Dec  4  1996 data/reuters21578/reut2-012.sgm\r\n",
      "-rw-r--r--@ 1 christina.jenkins  staff  1129687 Dec  4  1996 data/reuters21578/reut2-013.sgm\r\n",
      "-rw-r--r--@ 1 christina.jenkins  staff  1128671 Dec  4  1996 data/reuters21578/reut2-014.sgm\r\n",
      "-rw-r--r--@ 1 christina.jenkins  staff  1258665 Dec  4  1996 data/reuters21578/reut2-015.sgm\r\n",
      "-rw-r--r--@ 1 christina.jenkins  staff  1316417 Dec  4  1996 data/reuters21578/reut2-016.sgm\r\n",
      "-rw-r--r--@ 1 christina.jenkins  staff  1546911 Dec  4  1996 data/reuters21578/reut2-017.sgm\r\n",
      "-rw-r--r--@ 1 christina.jenkins  staff  1258819 Dec  4  1996 data/reuters21578/reut2-018.sgm\r\n",
      "-rw-r--r--@ 1 christina.jenkins  staff  1261780 Dec  4  1996 data/reuters21578/reut2-019.sgm\r\n",
      "-rw-r--r--@ 1 christina.jenkins  staff  1049566 Dec  4  1996 data/reuters21578/reut2-020.sgm\r\n",
      "-rw-r--r--@ 1 christina.jenkins  staff   621648 Dec  4  1996 data/reuters21578/reut2-021.sgm\r\n"
     ]
    }
   ],
   "source": [
    "!ls -la data/reuters21578/*.sgm"
   ]
  },
  {
   "cell_type": "code",
   "execution_count": 6,
   "metadata": {
    "ExecuteTime": {
     "end_time": "2020-08-09T08:51:52.393712Z",
     "start_time": "2020-08-09T08:51:51.841647Z"
    }
   },
   "outputs": [
    {
     "name": "stdout",
     "output_type": "stream",
     "text": [
      "   11367\r\n"
     ]
    }
   ],
   "source": [
    "!grep \\<TOPICS\\>\\<D\\> data/reuters21578/*.sgm | wc -l\n"
   ]
  },
  {
   "cell_type": "code",
   "execution_count": 7,
   "metadata": {
    "ExecuteTime": {
     "end_time": "2020-08-09T08:52:13.793760Z",
     "start_time": "2020-08-09T08:52:13.707480Z"
    }
   },
   "outputs": [
    {
     "ename": "NameError",
     "evalue": "name 'ReutersStreamReader' is not defined",
     "output_type": "error",
     "traceback": [
      "\u001b[0;31m---------------------------------------------------------------------------\u001b[0m",
      "\u001b[0;31mNameError\u001b[0m                                 Traceback (most recent call last)",
      "\u001b[0;32m<ipython-input-7-212fe9fcde40>\u001b[0m in \u001b[0;36m<module>\u001b[0;34m\u001b[0m\n\u001b[1;32m      1\u001b[0m \u001b[0;31m# read and parse the data\u001b[0m\u001b[0;34m\u001b[0m\u001b[0;34m\u001b[0m\u001b[0;34m\u001b[0m\u001b[0m\n\u001b[1;32m      2\u001b[0m \u001b[0;31m# this will download the data if it's not yet available locally\u001b[0m\u001b[0;34m\u001b[0m\u001b[0;34m\u001b[0m\u001b[0;34m\u001b[0m\u001b[0m\n\u001b[0;32m----> 3\u001b[0;31m \u001b[0mdata_streamer\u001b[0m \u001b[0;34m=\u001b[0m \u001b[0mReutersStreamReader\u001b[0m\u001b[0;34m(\u001b[0m\u001b[0;34m'data/reuters21578/'\u001b[0m\u001b[0;34m)\u001b[0m\u001b[0;34m.\u001b[0m\u001b[0miterdocs\u001b[0m\u001b[0;34m(\u001b[0m\u001b[0;34m)\u001b[0m\u001b[0;34m\u001b[0m\u001b[0;34m\u001b[0m\u001b[0m\n\u001b[0m\u001b[1;32m      4\u001b[0m \u001b[0mdata\u001b[0m \u001b[0;34m=\u001b[0m \u001b[0mget_minibatch\u001b[0m\u001b[0;34m(\u001b[0m\u001b[0mdata_streamer\u001b[0m\u001b[0;34m,\u001b[0m \u001b[0;36m50000\u001b[0m\u001b[0;34m)\u001b[0m\u001b[0;34m\u001b[0m\u001b[0;34m\u001b[0m\u001b[0m\n\u001b[1;32m      5\u001b[0m \u001b[0mdata\u001b[0m\u001b[0;34m\u001b[0m\u001b[0;34m\u001b[0m\u001b[0m\n",
      "\u001b[0;31mNameError\u001b[0m: name 'ReutersStreamReader' is not defined"
     ]
    }
   ],
   "source": [
    "\n",
    "# read and parse the data\n",
    "# this will download the data if it's not yet available locally\n",
    "data_streamer = ReutersStreamReader('data/reuters21578/').iterdocs()\n",
    "data = get_minibatch(data_streamer, 50000)\n",
    "data"
   ]
  },
  {
   "cell_type": "code",
   "execution_count": 8,
   "metadata": {
    "ExecuteTime": {
     "end_time": "2020-08-09T09:52:03.869753Z",
     "start_time": "2020-08-09T09:52:03.839711Z"
    }
   },
   "outputs": [],
   "source": [
    "from bs4 import BeautifulSoup,SoupStrainer"
   ]
  },
  {
   "cell_type": "code",
   "execution_count": 5,
   "metadata": {
    "ExecuteTime": {
     "end_time": "2020-08-09T10:27:04.100183Z",
     "start_time": "2020-08-09T10:27:04.096844Z"
    }
   },
   "outputs": [],
   "source": [
    "f = open('data/reuters21578/test.sgm', 'r')"
   ]
  },
  {
   "cell_type": "code",
   "execution_count": 6,
   "metadata": {
    "ExecuteTime": {
     "end_time": "2020-08-09T10:27:04.447388Z",
     "start_time": "2020-08-09T10:27:04.444402Z"
    }
   },
   "outputs": [],
   "source": [
    "data = f.read()"
   ]
  },
  {
   "cell_type": "code",
   "execution_count": 32,
   "metadata": {
    "ExecuteTime": {
     "end_time": "2020-08-09T10:34:03.072792Z",
     "start_time": "2020-08-09T10:34:03.063375Z"
    }
   },
   "outputs": [
    {
     "ename": "KeyError",
     "evalue": "0",
     "output_type": "error",
     "traceback": [
      "\u001b[0;31m---------------------------------------------------------------------------\u001b[0m",
      "\u001b[0;31mKeyError\u001b[0m                                  Traceback (most recent call last)",
      "\u001b[0;32m<ipython-input-32-e0cf1eb318be>\u001b[0m in \u001b[0;36m<module>\u001b[0;34m\u001b[0m\n\u001b[0;32m----> 1\u001b[0;31m \u001b[0msoup\u001b[0m\u001b[0;34m[\u001b[0m\u001b[0;36m0\u001b[0m\u001b[0;34m]\u001b[0m\u001b[0;34m\u001b[0m\u001b[0;34m\u001b[0m\u001b[0m\n\u001b[0m",
      "\u001b[0;32m~/opt/anaconda3/lib/python3.7/site-packages/bs4/element.py\u001b[0m in \u001b[0;36m__getitem__\u001b[0;34m(self, key)\u001b[0m\n\u001b[1;32m   1319\u001b[0m         \"\"\"tag[key] returns the value of the 'key' attribute for the Tag,\n\u001b[1;32m   1320\u001b[0m         and throws an exception if it's not there.\"\"\"\n\u001b[0;32m-> 1321\u001b[0;31m         \u001b[0;32mreturn\u001b[0m \u001b[0mself\u001b[0m\u001b[0;34m.\u001b[0m\u001b[0mattrs\u001b[0m\u001b[0;34m[\u001b[0m\u001b[0mkey\u001b[0m\u001b[0;34m]\u001b[0m\u001b[0;34m\u001b[0m\u001b[0;34m\u001b[0m\u001b[0m\n\u001b[0m\u001b[1;32m   1322\u001b[0m \u001b[0;34m\u001b[0m\u001b[0m\n\u001b[1;32m   1323\u001b[0m     \u001b[0;32mdef\u001b[0m \u001b[0m__iter__\u001b[0m\u001b[0;34m(\u001b[0m\u001b[0mself\u001b[0m\u001b[0;34m)\u001b[0m\u001b[0;34m:\u001b[0m\u001b[0;34m\u001b[0m\u001b[0;34m\u001b[0m\u001b[0m\n",
      "\u001b[0;31mKeyError\u001b[0m: 0"
     ]
    }
   ],
   "source": [
    "soup"
   ]
  },
  {
   "cell_type": "code",
   "execution_count": 23,
   "metadata": {
    "ExecuteTime": {
     "end_time": "2020-08-09T10:31:00.297169Z",
     "start_time": "2020-08-09T10:31:00.288264Z"
    }
   },
   "outputs": [
    {
     "data": {
      "text/plain": [
       "<?xml version=\"1.0\" encoding=\"utf-8\"?>\n",
       "<!DOCTYPE lewis SYSTEM \"lewis.dtd\">\n",
       "<REUTERS CGISPLIT=\"TRAINING-SET\" LEWISSPLIT=\"TRAIN\" NEWID=\"14001\" OLDID=\"2984\" TOPICS=\"BYPASS\">\n",
       "<DATE> 7-APR-1987 11:02:35.07</DATE>\n",
       "<TOPICS/>\n",
       "<PLACES/>\n",
       "<PEOPLE/>\n",
       "<ORGS/>\n",
       "<EXCHANGES/>\n",
       "<COMPANIES/>\n",
       "<UNKNOWN> \n",
       "E\n",
       "f1137reute\n",
       "b f BC-JOHANNESBURG-GOLD-SHA   04-07 0120</UNKNOWN>\n",
       "<TEXT>\n",
       "<TITLE>JOHANNESBURG GOLD SHARES CLOSE MIXED TO FIRMER</TITLE>\n",
       "<DATELINE>    JOHANNESBURG, April 7 - </DATELINE><BODY>Gold share prices closed mixed to\n",
       "slightly firmer in quiet and cautious trading, showing little\n",
       "reaction to a retreat in the bullion price back to below 420\n",
       "dlrs and a firmer financial rand, dealers said.\n",
       "    Heavyweight Vaal Reefs ended eight rand higher at 398 rand\n",
       "but Grootvlei eased 40 cents at 16.60 rand, while mining\n",
       "financials had Gold Fields up a rand at 63 rand despite weaker\n",
       "quarterly results. Other minings were firm but platinums eased.\n",
       "    Industrials also closed mixed to firmer, the index once\n",
       "again hitting a new high of 1757 from Friday's 1753 finish. The\n",
       "overall index also hit a new high of 2188 versus 2179 on\n",
       "Friday.</BODY></TEXT></REUTERS>"
      ]
     },
     "execution_count": 23,
     "metadata": {},
     "output_type": "execute_result"
    }
   ],
   "source": [
    "soup = BeautifulSoup(data, \"xml\")\n",
    "soup"
   ]
  },
  {
   "cell_type": "code",
   "execution_count": 27,
   "metadata": {
    "ExecuteTime": {
     "end_time": "2020-08-09T10:32:01.202621Z",
     "start_time": "2020-08-09T10:32:01.198242Z"
    }
   },
   "outputs": [
    {
     "data": {
      "text/plain": [
       "\"\\n 7-APR-1987 11:02:35.07\\n\\n\\n\\n\\n\\n\\n \\nE\\nf1137reute\\nb f BC-JOHANNESBURG-GOLD-SHA   04-07 0120\\n\\nJOHANNESBURG GOLD SHARES CLOSE MIXED TO FIRMER\\n    JOHANNESBURG, April 7 - Gold share prices closed mixed to\\nslightly firmer in quiet and cautious trading, showing little\\nreaction to a retreat in the bullion price back to below 420\\ndlrs and a firmer financial rand, dealers said.\\n    Heavyweight Vaal Reefs ended eight rand higher at 398 rand\\nbut Grootvlei eased 40 cents at 16.60 rand, while mining\\nfinancials had Gold Fields up a rand at 63 rand despite weaker\\nquarterly results. Other minings were firm but platinums eased.\\n    Industrials also closed mixed to firmer, the index once\\nagain hitting a new high of 1757 from Friday's 1753 finish. The\\noverall index also hit a new high of 2188 versus 2179 on\\nFriday.\""
      ]
     },
     "execution_count": 27,
     "metadata": {},
     "output_type": "execute_result"
    }
   ],
   "source": [
    "\n",
    "soup.text"
   ]
  },
  {
   "cell_type": "code",
   "execution_count": 11,
   "metadata": {
    "ExecuteTime": {
     "end_time": "2020-08-09T10:27:22.704053Z",
     "start_time": "2020-08-09T10:27:22.700908Z"
    }
   },
   "outputs": [],
   "source": []
  },
  {
   "cell_type": "code",
   "execution_count": null,
   "metadata": {
    "ExecuteTime": {
     "end_time": "2020-08-09T10:27:15.780927Z",
     "start_time": "2020-08-09T10:27:15.776498Z"
    }
   },
   "outputs": [],
   "source": []
  },
  {
   "cell_type": "code",
   "execution_count": 12,
   "metadata": {
    "ExecuteTime": {
     "end_time": "2020-08-09T10:27:31.687620Z",
     "start_time": "2020-08-09T10:27:31.684071Z"
    }
   },
   "outputs": [],
   "source": [
    "contents = soup.findAll('body')\n",
    "for content in contents:\n",
    "    print(content.text)"
   ]
  },
  {
   "cell_type": "code",
   "execution_count": null,
   "metadata": {},
   "outputs": [],
   "source": []
  },
  {
   "cell_type": "code",
   "execution_count": 13,
   "metadata": {
    "ExecuteTime": {
     "end_time": "2020-08-09T10:57:26.463055Z",
     "start_time": "2020-08-09T10:57:23.670840Z"
    }
   },
   "outputs": [
    {
     "name": "stdout",
     "output_type": "stream",
     "text": [
      "data/reuters21578/reut2-004.sgm\n",
      "data/reuters21578/reut2-010.sgm\n",
      "data/reuters21578/reut2-011.sgm\n",
      "data/reuters21578/reut2-005.sgm\n",
      "data/reuters21578/reut2-013.sgm\n",
      "data/reuters21578/reut2-007.sgm\n",
      "data/reuters21578/test.sgm\n",
      "data/reuters21578/reut2-006.sgm\n",
      "data/reuters21578/reut2-012.sgm\n",
      "data/reuters21578/reut2-016.sgm\n",
      "data/reuters21578/reut2-002.sgm\n",
      "data/reuters21578/reut2-003.sgm\n",
      "data/reuters21578/reut2-017.sgm\n",
      "Failed to read data/reuters21578/reut2-017.sgm as utf-8\n",
      "Cannot find date patter in: 31-MAR-1987 605:12:19.12\n",
      "data/reuters21578/reut2-001.sgm\n",
      "data/reuters21578/reut2-015.sgm\n",
      "data/reuters21578/reut2-014.sgm\n",
      "data/reuters21578/reut2-000.sgm\n",
      "data/reuters21578/reut2-019.sgm\n",
      "data/reuters21578/reut2-018.sgm\n",
      "data/reuters21578/reut2-020.sgm\n",
      "data/reuters21578/reut2-008.sgm\n",
      "data/reuters21578/reut2-009.sgm\n",
      "data/reuters21578/reut2-021.sgm\n"
     ]
    },
    {
     "data": {
      "text/html": [
       "<div>\n",
       "<style scoped>\n",
       "    .dataframe tbody tr th:only-of-type {\n",
       "        vertical-align: middle;\n",
       "    }\n",
       "\n",
       "    .dataframe tbody tr th {\n",
       "        vertical-align: top;\n",
       "    }\n",
       "\n",
       "    .dataframe thead th {\n",
       "        text-align: right;\n",
       "    }\n",
       "</style>\n",
       "<table border=\"1\" class=\"dataframe\">\n",
       "  <thead>\n",
       "    <tr style=\"text-align: right;\">\n",
       "      <th></th>\n",
       "      <th>old_id</th>\n",
       "      <th>new_id</th>\n",
       "      <th>has_topics</th>\n",
       "      <th>date</th>\n",
       "      <th>topics</th>\n",
       "      <th>places</th>\n",
       "      <th>people</th>\n",
       "      <th>orgs</th>\n",
       "      <th>exchanges</th>\n",
       "      <th>companies</th>\n",
       "      <th>title</th>\n",
       "      <th>dateline</th>\n",
       "      <th>body</th>\n",
       "      <th>author</th>\n",
       "      <th>cgi_split</th>\n",
       "      <th>lewis_split</th>\n",
       "    </tr>\n",
       "  </thead>\n",
       "  <tbody>\n",
       "    <tr>\n",
       "      <th>0</th>\n",
       "      <td>8914</td>\n",
       "      <td>4001</td>\n",
       "      <td>True</td>\n",
       "      <td>1987-03-11 18:04:17.590</td>\n",
       "      <td></td>\n",
       "      <td>canada</td>\n",
       "      <td></td>\n",
       "      <td></td>\n",
       "      <td></td>\n",
       "      <td></td>\n",
       "      <td>INCO SEES NO MAJOR IMPACT FROM DOW REMOVAL</td>\n",
       "      <td>TORONTO, March 11 -</td>\n",
       "      <td>Inco Ltd said it did not expect its\\nearlier r...</td>\n",
       "      <td></td>\n",
       "      <td>TRAINING-SET</td>\n",
       "      <td>TRAIN</td>\n",
       "    </tr>\n",
       "    <tr>\n",
       "      <th>1</th>\n",
       "      <td>8915</td>\n",
       "      <td>4002</td>\n",
       "      <td>True</td>\n",
       "      <td>1987-03-11 18:06:47.220</td>\n",
       "      <td></td>\n",
       "      <td>usa</td>\n",
       "      <td></td>\n",
       "      <td></td>\n",
       "      <td></td>\n",
       "      <td></td>\n",
       "      <td>FORMER EMPIRE OF CAROLINA &lt;EMP&gt; EXEC SENTENCED</td>\n",
       "      <td>NEW YORK, March 11 -</td>\n",
       "      <td>Mason Benson, former president and\\nchief oper...</td>\n",
       "      <td></td>\n",
       "      <td>TRAINING-SET</td>\n",
       "      <td>TRAIN</td>\n",
       "    </tr>\n",
       "    <tr>\n",
       "      <th>2</th>\n",
       "      <td>8916</td>\n",
       "      <td>4003</td>\n",
       "      <td>True</td>\n",
       "      <td>1987-03-11 18:09:39.660</td>\n",
       "      <td></td>\n",
       "      <td>usa</td>\n",
       "      <td></td>\n",
       "      <td></td>\n",
       "      <td></td>\n",
       "      <td></td>\n",
       "      <td>DOCTORS FIND LINK BETWEEN AIDS, SMALLPOX VIRUS</td>\n",
       "      <td>BOSTON, March 11 -</td>\n",
       "      <td>In a discovery that could complicate the\\nsear...</td>\n",
       "      <td></td>\n",
       "      <td>TRAINING-SET</td>\n",
       "      <td>TRAIN</td>\n",
       "    </tr>\n",
       "    <tr>\n",
       "      <th>3</th>\n",
       "      <td>8917</td>\n",
       "      <td>4004</td>\n",
       "      <td>True</td>\n",
       "      <td>1987-03-11 18:13:59.930</td>\n",
       "      <td></td>\n",
       "      <td>usa</td>\n",
       "      <td></td>\n",
       "      <td></td>\n",
       "      <td></td>\n",
       "      <td></td>\n",
       "      <td>BIRTH CONTROL PILLS HELP PREVENT CANCER - STUDY</td>\n",
       "      <td>BOSTON, March 11 -</td>\n",
       "      <td>Doctors at the Centers for Disease\\nControl in...</td>\n",
       "      <td></td>\n",
       "      <td>TRAINING-SET</td>\n",
       "      <td>TRAIN</td>\n",
       "    </tr>\n",
       "    <tr>\n",
       "      <th>4</th>\n",
       "      <td>8918</td>\n",
       "      <td>4005</td>\n",
       "      <td>True</td>\n",
       "      <td>1987-03-11 18:14:49.930</td>\n",
       "      <td>interest</td>\n",
       "      <td>usa</td>\n",
       "      <td></td>\n",
       "      <td></td>\n",
       "      <td></td>\n",
       "      <td></td>\n",
       "      <td>U.S. ECONOMIC DATA KEY TO DEBT FUTURES OUTLOOK</td>\n",
       "      <td>CHICAGO, March 11 -</td>\n",
       "      <td>U.S. economic data this week could be\\nthe key...</td>\n",
       "      <td>By Brad Schade, Reuters</td>\n",
       "      <td>TRAINING-SET</td>\n",
       "      <td>TRAIN</td>\n",
       "    </tr>\n",
       "  </tbody>\n",
       "</table>\n",
       "</div>"
      ],
      "text/plain": [
       "  old_id new_id  has_topics                    date    topics  places people  \\\n",
       "0   8914   4001        True 1987-03-11 18:04:17.590            canada          \n",
       "1   8915   4002        True 1987-03-11 18:06:47.220               usa          \n",
       "2   8916   4003        True 1987-03-11 18:09:39.660               usa          \n",
       "3   8917   4004        True 1987-03-11 18:13:59.930               usa          \n",
       "4   8918   4005        True 1987-03-11 18:14:49.930  interest     usa          \n",
       "\n",
       "  orgs exchanges companies                                            title  \\\n",
       "0                                INCO SEES NO MAJOR IMPACT FROM DOW REMOVAL   \n",
       "1                            FORMER EMPIRE OF CAROLINA <EMP> EXEC SENTENCED   \n",
       "2                            DOCTORS FIND LINK BETWEEN AIDS, SMALLPOX VIRUS   \n",
       "3                           BIRTH CONTROL PILLS HELP PREVENT CANCER - STUDY   \n",
       "4                            U.S. ECONOMIC DATA KEY TO DEBT FUTURES OUTLOOK   \n",
       "\n",
       "               dateline                                               body  \\\n",
       "0   TORONTO, March 11 -  Inco Ltd said it did not expect its\\nearlier r...   \n",
       "1  NEW YORK, March 11 -  Mason Benson, former president and\\nchief oper...   \n",
       "2    BOSTON, March 11 -  In a discovery that could complicate the\\nsear...   \n",
       "3    BOSTON, March 11 -  Doctors at the Centers for Disease\\nControl in...   \n",
       "4   CHICAGO, March 11 -  U.S. economic data this week could be\\nthe key...   \n",
       "\n",
       "                    author     cgi_split lewis_split  \n",
       "0                           TRAINING-SET       TRAIN  \n",
       "1                           TRAINING-SET       TRAIN  \n",
       "2                           TRAINING-SET       TRAIN  \n",
       "3                           TRAINING-SET       TRAIN  \n",
       "4  By Brad Schade, Reuters  TRAINING-SET       TRAIN  "
      ]
     },
     "execution_count": 13,
     "metadata": {},
     "output_type": "execute_result"
    }
   ],
   "source": [
    "from reuters import ReutersSGMLParser\n",
    "import pandas as pd\n",
    "from os import listdir\n",
    "from os.path import isfile, join\n",
    "\n",
    "parser = ReutersSGMLParser()\n",
    "data = parser.empty_row()\n",
    "onlyfiles = [f for f in listdir('data/reuters21578/') if isfile(join('data/reuters21578/', f))]\n",
    "for doc in onlyfiles:\n",
    "    path = join('data/reuters21578/', doc)\n",
    "    print(path)\n",
    "    # parse current document\n",
    "    rows = parser.parse(path)\n",
    "    # append rows into dataset\n",
    "    for key in data.keys():\n",
    "        data[key] = data[key] + rows[key]\n",
    "\n",
    "df = pd.DataFrame(data, columns=data.keys())\n",
    "#df = df.astype(dtype= {\"date\":\"datetime64[]\"})\n",
    "df.head()"
   ]
  },
  {
   "cell_type": "code",
   "execution_count": 14,
   "metadata": {
    "ExecuteTime": {
     "end_time": "2020-08-09T10:57:33.396112Z",
     "start_time": "2020-08-09T10:57:33.383499Z"
    }
   },
   "outputs": [
    {
     "data": {
      "text/plain": [
       "TRAIN       14668\n",
       "TEST         6188\n",
       "NOT-USED      722\n",
       "Name: lewis_split, dtype: int64"
      ]
     },
     "execution_count": 14,
     "metadata": {},
     "output_type": "execute_result"
    }
   ],
   "source": [
    "df.lewis_split.value_counts()"
   ]
  },
  {
   "cell_type": "code",
   "execution_count": null,
   "metadata": {},
   "outputs": [],
   "source": [
    " "
   ]
  }
 ],
 "metadata": {
  "kernelspec": {
   "display_name": "Python 3",
   "language": "python",
   "name": "python3"
  },
  "language_info": {
   "codemirror_mode": {
    "name": "ipython",
    "version": 3
   },
   "file_extension": ".py",
   "mimetype": "text/x-python",
   "name": "python",
   "nbconvert_exporter": "python",
   "pygments_lexer": "ipython3",
   "version": "3.7.6"
  },
  "toc": {
   "base_numbering": 1,
   "nav_menu": {},
   "number_sections": true,
   "sideBar": true,
   "skip_h1_title": false,
   "title_cell": "Table of Contents",
   "title_sidebar": "Contents",
   "toc_cell": false,
   "toc_position": {},
   "toc_section_display": true,
   "toc_window_display": false
  }
 },
 "nbformat": 4,
 "nbformat_minor": 4
}
